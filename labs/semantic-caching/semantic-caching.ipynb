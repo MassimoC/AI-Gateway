{
 "cells": [
  {
   "cell_type": "markdown",
   "metadata": {},
   "source": [
    "# APIM ❤️ OpenAI\n",
    "\n",
    "## Semantic Caching lab\n",
    "![flow](../../images/semantic-caching.gif)\n",
    "\n",
    "Playground to try the [semantic caching policy](https://learn.microsoft.com/azure/api-management/azure-openai-semantic-cache-lookup-policy). \n",
    "\n",
    "The azure-openai-semantic-cache-lookup policy conducts a cache lookup of responses on Azure OpenAI Chat Completion API and Completion API requests from a pre-configured external cache. It operates by comparing the vector proximity of the prompt to prior requests and using a specific similarity score threshold. Caching responses helps reduce bandwidth and processing demands on the backend Azure OpenAI API, thus reducing latency perceived by API consumers.  \n",
    "👉🏽 Update: The [Bicep file](main.bicep) was updated to use the new [Azure Managed Redis](https://azure.microsoft.com/en-us/products/managed-redis/) for improved cost efficiency.\n",
    "\n",
    "[View policy configuration](policy.xml)\n",
    "\n",
    "### Result\n",
    "![result](result.png)\n",
    "\n",
    "### Prerequisites\n",
    "- [Python 3.12 or later version](https://www.python.org/) installed\n",
    "- [Pandas Library](https://pandas.pydata.org/) and matplotlib installed\n",
    "- [Redis Cache Library](https://pypi.org/project/redis/) installed\n",
    "- [VS Code](https://code.visualstudio.com/) installed with the [Jupyter notebook extension](https://marketplace.visualstudio.com/items?itemName=ms-toolsai.jupyter) enabled\n",
    "- [Azure CLI](https://learn.microsoft.com/cli/azure/install-azure-cli) installed\n",
    "- [An Azure Subscription](https://azure.microsoft.com/free/) with Contributor permissions\n",
    "- [Access granted to Azure OpenAI](https://aka.ms/oai/access) or just enable the mock service\n",
    "- [Sign in to Azure with Azure CLI](https://learn.microsoft.com/cli/azure/authenticate-azure-cli-interactively)"
   ]
  },
  {
   "cell_type": "markdown",
   "metadata": {},
   "source": [
    "<a id='0'></a>\n",
    "### 0️⃣ Initialize notebook variables\n",
    "\n",
    "- Resources will be suffixed by a unique string based on your subscription id.\n",
    "- Adjust the location parameters according your preferences and on the [product availability by Azure region.](https://azure.microsoft.com/explore/global-infrastructure/products-by-region/?cdn=disable&products=cognitive-services,api-management) \n",
    "- Adjust the OpenAI model and version according the [availability by region.](https://learn.microsoft.com/azure/ai-services/openai/concepts/models) "
   ]
  },
  {
   "cell_type": "code",
   "execution_count": 2,
   "metadata": {
    "metadata": {}
   },
   "outputs": [
    {
     "name": "stdout",
     "output_type": "stream",
     "text": [
      "✅ \u001b[1;32mNotebook initialized\u001b[0m ⌚ 22:09:15.881607 \n"
     ]
    }
   ],
   "source": [
    "import os, sys, json\n",
    "sys.path.insert(1, '../../shared')  # add the shared directory to the Python path\n",
    "import utils\n",
    "\n",
    "deployment_name = os.path.basename(os.path.dirname(globals()['__vsc_ipynb_file__']))\n",
    "resource_group_name = f\"techo-{deployment_name}\" # change the name to match your naming style\n",
    "resource_group_location = \"uksouth\"\n",
    "\n",
    "apim_sku = 'Basicv2'\n",
    "\n",
    "openai_resources = [ {\"name\": \"openai1\", \"location\": \"uksouth\"}]\n",
    "\n",
    "openai_model_name = \"gpt-4o-mini\"\n",
    "openai_model_version = \"2024-07-18\"\n",
    "openai_model_sku = \"GlobalStandard\"\n",
    "openai_model_capacity = 20\n",
    "openai_deployment_name = \"gpt-4o-mini\"\n",
    "openai_api_version = \"2024-10-21\"\n",
    "\n",
    "embeddings_deployment_name = \"text-embedding-ada-002\"\n",
    "embeddings_model_name = \"text-embedding-ada-002\"\n",
    "embeddings_model_version = \"2\"\n",
    "rediscache_name = \"rediscache\"\n",
    "rediscache_sku = \"Balanced_B0\" # By default it uses the most cost efficient. Check the docs to choose the right SKU: https://learn.microsoft.com/en-us/azure/azure-cache-for-redis/managed-redis/managed-redis-overview#choosing-the-right-tier\n",
    "\n",
    "utils.print_ok('Notebook initialized')"
   ]
  },
  {
   "cell_type": "markdown",
   "metadata": {},
   "source": [
    "<a id='1'></a>\n",
    "### 1️⃣ Verify the Azure CLI and the connected Azure subscription\n",
    "\n",
    "The following commands ensure that you have the latest version of the Azure CLI and that the Azure CLI is connected to your Azure subscription."
   ]
  },
  {
   "cell_type": "code",
   "execution_count": 3,
   "metadata": {},
   "outputs": [
    {
     "name": "stdout",
     "output_type": "stream",
     "text": [
      "⚙️ \u001b[1;34mRunning: az account show \u001b[0m\n",
      "✅ \u001b[1;32mRetrieved az account\u001b[0m ⌚ 22:09:20.489060 [0m:2s]\n",
      "👉🏽 \u001b[1;34mCurrent user: inbox@massimocrippa.com\u001b[0m\n",
      "👉🏽 \u001b[1;34mTenant ID: 1de23963-6823-4ea6-9ac4-4cf69c102307\u001b[0m\n",
      "👉🏽 \u001b[1;34mSubscription ID: b717ac47-f31b-41f9-adc2-579932e7e02e\u001b[0m\n"
     ]
    }
   ],
   "source": [
    "output = utils.run(\"az account show\", \"Retrieved az account\", \"Failed to get the current az account\")\n",
    "\n",
    "if output.success and output.json_data:\n",
    "    current_user = output.json_data['user']['name']\n",
    "    tenant_id = output.json_data['tenantId']\n",
    "    subscription_id = output.json_data['id']\n",
    "\n",
    "    utils.print_info(f\"Current user: {current_user}\")\n",
    "    utils.print_info(f\"Tenant ID: {tenant_id}\")\n",
    "    utils.print_info(f\"Subscription ID: {subscription_id}\")"
   ]
  },
  {
   "cell_type": "markdown",
   "metadata": {},
   "source": [
    "<a id='2'></a>\n",
    "### 2️⃣ Create deployment using 🦾 Bicep\n",
    "\n",
    "This lab uses [Bicep](https://learn.microsoft.com/azure/azure-resource-manager/bicep/overview?tabs=bicep) to declarative define all the resources that will be deployed in the specified resource group. Change the parameters or the [main.bicep](main.bicep) directly to try different configurations.\n"
   ]
  },
  {
   "cell_type": "code",
   "execution_count": 14,
   "metadata": {},
   "outputs": [
    {
     "name": "stdout",
     "output_type": "stream",
     "text": [
      "⚙️ \u001b[1;34mRunning: az group show --name techo-semantic-caching \u001b[0m\n",
      "👉🏽 \u001b[1;34mUsing existing resource group 'techo-semantic-caching'\u001b[0m\n",
      "⚙️ \u001b[1;34mRunning: az deployment group create --name semantic-caching --resource-group techo-semantic-caching --template-file main.bicep --parameters params.json \u001b[0m\n",
      "✅ \u001b[1;32mDeployment 'semantic-caching' succeeded\u001b[0m ⌚ 22:24:16.633212 [1m:16s]\n"
     ]
    }
   ],
   "source": [
    "# Create the resource group if doesn't exist\n",
    "utils.create_resource_group(resource_group_name, resource_group_location)\n",
    "\n",
    "# Define the Bicep parameters\n",
    "bicep_parameters = {\n",
    "    \"$schema\": \"https://schema.management.azure.com/schemas/2019-04-01/deploymentParameters.json#\",\n",
    "    \"contentVersion\": \"1.0.0.0\",\n",
    "    \"parameters\": {\n",
    "        \"apimSku\": { \"value\": apim_sku },\n",
    "        \"openAIConfig\": { \"value\": openai_resources },\n",
    "        \"openAIDeploymentName\": { \"value\": openai_deployment_name },\n",
    "        \"openAIModelName\": { \"value\": openai_model_name },\n",
    "        \"openAIModelVersion\": { \"value\": openai_model_version },\n",
    "        \"openAIModelSKU\": { \"value\": openai_model_sku },\n",
    "        \"openAIModelCapacity\": { \"value\": openai_model_capacity },\n",
    "        \"openAIAPIVersion\": { \"value\": openai_api_version },\n",
    "        \"embeddingsModelName\": { \"value\": embeddings_model_name },\n",
    "        \"embeddingsModelVersion\": { \"value\": embeddings_model_version },\n",
    "        \"redisCacheName\": { \"value\": rediscache_name },\n",
    "        \"redisCacheSKU\": { \"value\": rediscache_sku }\n",
    "    }\n",
    "}\n",
    "\n",
    "# Write the parameters to the params.json file\n",
    "with open('params.json', 'w') as bicep_parameters_file:\n",
    "    bicep_parameters_file.write(json.dumps(bicep_parameters))\n",
    "\n",
    "# Run the deployment\n",
    "output = utils.run(f\"az deployment group create --name {deployment_name} --resource-group {resource_group_name} --template-file main.bicep --parameters params.json\",\n",
    "    f\"Deployment '{deployment_name}' succeeded\", f\"Deployment '{deployment_name}' failed\")"
   ]
  },
  {
   "cell_type": "markdown",
   "metadata": {},
   "source": [
    "<a id='3'></a>\n",
    "### 3️⃣ Get the deployment outputs\n",
    "\n",
    "Retrieve the required outputs from the Bicep deployment."
   ]
  },
  {
   "cell_type": "code",
   "execution_count": 15,
   "metadata": {},
   "outputs": [
    {
     "name": "stdout",
     "output_type": "stream",
     "text": [
      "⚙️ \u001b[1;34mRunning: az deployment group show --name semantic-caching -g techo-semantic-caching \u001b[0m\n",
      "✅ \u001b[1;32mRetrieved deployment: semantic-caching\u001b[0m ⌚ 22:24:25.629466 [0m:3s]\n",
      "👉🏽 \u001b[1;34mAPIM API Gateway URL: https://apim-zn6mf6z4vchxc.azure-api.net\u001b[0m\n",
      "👉🏽 \u001b[1;34mAPIM Subscription Key (masked): ****21cd\u001b[0m\n",
      "👉🏽 \u001b[1;34mRedis Cache Host: rediscache-zn6mf6z4vchxc.uksouth.redis.azure.net\u001b[0m\n",
      "👉🏽 \u001b[1;34mRedis Cache Key (masked): ****EHg=\u001b[0m\n",
      "👉🏽 \u001b[1;34mRedis Cache Port: 10000\u001b[0m\n"
     ]
    }
   ],
   "source": [
    "# Obtain all of the outputs from the deployment\n",
    "output = utils.run(f\"az deployment group show --name {deployment_name} -g {resource_group_name}\", f\"Retrieved deployment: {deployment_name}\", f\"Failed to retrieve deployment: {deployment_name}\")\n",
    "\n",
    "if output.success and output.json_data:\n",
    "    apim_resource_gateway_url = utils.get_deployment_output(output, 'apimResourceGatewayURL', 'APIM API Gateway URL')\n",
    "    apim_subscription_key = utils.get_deployment_output(output, 'apimSubscriptionKey', 'APIM Subscription Key (masked)', True)\n",
    "    rediscache_host = utils.get_deployment_output(output, 'redisCacheHost', 'Redis Cache Host')\n",
    "    rediscache_key = utils.get_deployment_output(output, 'redisCacheKey', 'Redis Cache Key (masked)', True)\n",
    "    rediscache_port = int(utils.get_deployment_output(output, 'redisCachePort', 'Redis Cache Port'))\n"
   ]
  },
  {
   "cell_type": "markdown",
   "metadata": {},
   "source": [
    "<a id='sdk'></a>\n",
    "### 🧪 Make multiple calls using the Azure OpenAI Python SDK\n",
    "\n",
    "The code below contains a list of questions that will be randomly selected and sent as prompts to the OpenAI API"
   ]
  },
  {
   "cell_type": "code",
   "execution_count": 16,
   "metadata": {},
   "outputs": [
    {
     "name": "stdout",
     "output_type": "stream",
     "text": [
      "▶️ Run 1/20:\n",
      "💬  Tell me how to create the best steaming Java?\n",
      "⌚ 4.87 seconds\n",
      "▶️ Run 2/20:\n",
      "💬  Explain how to make a caffeinated brewed beverage?\n",
      "⌚ 2.55 seconds\n",
      "▶️ Run 3/20:\n",
      "💬  Tell me how to create the best steaming Java?\n",
      "⌚ 2.65 seconds\n",
      "▶️ Run 4/20:\n",
      "💬  What are the steps to Craft the Ideal Espresso?\n",
      "⌚ 2.53 seconds\n",
      "▶️ Run 5/20:\n",
      "💬  How to Brew the Perfect Cup of Coffee?\n",
      "⌚ 2.88 seconds\n",
      "▶️ Run 6/20:\n",
      "💬  Explain how to make a caffeinated brewed beverage?\n",
      "⌚ 3.17 seconds\n",
      "▶️ Run 7/20:\n",
      "💬  How to Brew the Perfect Cup of Coffee?\n",
      "⌚ 2.72 seconds\n",
      "▶️ Run 8/20:\n",
      "💬  Tell me how to create the best steaming Java?\n",
      "⌚ 1.48 seconds\n",
      "▶️ Run 9/20:\n",
      "💬  How to Brew the Perfect Cup of Coffee?\n",
      "⌚ 3.04 seconds\n",
      "▶️ Run 10/20:\n",
      "💬  How to Brew the Perfect Cup of Coffee?\n",
      "⌚ 2.34 seconds\n",
      "▶️ Run 11/20:\n",
      "💬  Explain how to make a caffeinated brewed beverage?\n",
      "⌚ 3.16 seconds\n",
      "▶️ Run 12/20:\n",
      "💬  Explain how to make a caffeinated brewed beverage?\n",
      "⌚ 2.62 seconds\n",
      "▶️ Run 13/20:\n",
      "💬  What are the steps to Craft the Ideal Espresso?\n",
      "⌚ 2.90 seconds\n",
      "▶️ Run 14/20:\n",
      "💬  Tell me how to create the best steaming Java?\n",
      "⌚ 3.16 seconds\n",
      "▶️ Run 15/20:\n",
      "💬  How to Brew the Perfect Cup of Coffee?\n",
      "⌚ 2.60 seconds\n",
      "▶️ Run 16/20:\n",
      "💬  What are the steps to Craft the Ideal Espresso?\n",
      "⌚ 2.60 seconds\n",
      "▶️ Run 17/20:\n",
      "💬  What are the steps to Craft the Ideal Espresso?\n",
      "⌚ 3.30 seconds\n",
      "▶️ Run 18/20:\n",
      "💬  Tell me how to create the best steaming Java?\n",
      "⌚ 4.02 seconds\n",
      "▶️ Run 19/20:\n",
      "💬  Tell me how to create the best steaming Java?\n",
      "⌚ 1.95 seconds\n",
      "▶️ Run 20/20:\n",
      "💬  How to Brew the Perfect Cup of Coffee?\n",
      "⌚ 3.18 seconds\n"
     ]
    }
   ],
   "source": [
    "from openai import AzureOpenAI\n",
    "import time, random\n",
    "\n",
    "runs = 20\n",
    "sleep_time_ms = 10\n",
    "questions = [\"How to Brew the Perfect Cup of Coffee?\",\n",
    "             \"What are the steps to Craft the Ideal Espresso?\",\n",
    "             \"Tell me how to create the best steaming Java?\",\n",
    "             \"Explain how to make a caffeinated brewed beverage?\"]\n",
    "api_runs = []  # Response Times for each run\n",
    "client = AzureOpenAI(\n",
    "    azure_endpoint = apim_resource_gateway_url,\n",
    "    api_key = apim_subscription_key,\n",
    "    api_version = openai_api_version\n",
    ")\n",
    "\n",
    "for i in range(runs):\n",
    "    print(f\"▶️ Run {i+1}/{runs}:\")\n",
    "    random_question = random.choice(questions)\n",
    "    print(\"💬 \", random_question)\n",
    "\n",
    "    start_time = time.time()\n",
    "    response = client.chat.completions.create(\n",
    "        model = openai_model_name,\n",
    "        messages = [\n",
    "            {\"role\": \"system\", \"content\": \"You are a sarcastic, unhelpful assistant.\"},\n",
    "            {\"role\": \"user\", \"content\": random_question}\n",
    "        ])\n",
    "    response_time = time.time() - start_time\n",
    "\n",
    "    print(f\"⌚ {response_time:.2f} seconds\")\n",
    "\n",
    "    # Uncomment to print the response\n",
    "    #print(f\"💬 {response.choices[0].message.content}\\n\")\n",
    "\n",
    "    api_runs.append(response_time)\n",
    "    time.sleep(sleep_time_ms/1000)"
   ]
  },
  {
   "cell_type": "markdown",
   "metadata": {},
   "source": [
    "<a id='plot'></a>\n",
    "### 🔍 Analyze Semantic Caching performance\n",
    "\n",
    "The first request should take a longer time as it makes it all the way to the Azure OpenAI backend. The subsequent requests should be much quicker as they draw from the semantic cache. Note that making more than 20 requests may result in spikes similar to the first request. As we are using the cheapest, smallest Basic Redis cache (B0), the cache server will eventually return a 429, forcing API Management to make a longer request to the Azure OpenAI backend. This is expected as B0 is not intended for load scenarios."
   ]
  },
  {
   "cell_type": "code",
   "execution_count": 17,
   "metadata": {},
   "outputs": [
    {
     "data": {
      "image/png": "[encoded data removed]",
      "text/plain": [
       "<Figure size 1500x500 with 1 Axes>"
      ]
     },
     "metadata": {},
     "output_type": "display_data"
    }
   ],
   "source": [
    "# plot the results\n",
    "import pandas as pd\n",
    "import matplotlib.pyplot as plt\n",
    "import matplotlib as mpl\n",
    "\n",
    "mpl.rcParams['figure.figsize'] = [15, 5]\n",
    "df = pd.DataFrame(api_runs, columns=['Response Time'])\n",
    "df['Run'] = range(1, len(df) + 1)\n",
    "df.plot(kind='bar', x='Run', y='Response Time', legend=False)\n",
    "plt.title('Semantic Caching Performance')\n",
    "plt.xlabel('Runs')\n",
    "plt.ylabel('Response Time (s)')\n",
    "plt.xticks(rotation=0)  # Set x-axis ticks to be the run numbers\n",
    "\n",
    "average = df['Response Time'].mean()\n",
    "plt.axhline(y=average, color='r', linestyle='--', label=f'Average: {average:.2f}')\n",
    "plt.legend()\n",
    "\n",
    "plt.show()"
   ]
  },
  {
   "cell_type": "markdown",
   "metadata": {},
   "source": [
    "<a id='statistics'></a>\n",
    "### 🔍 Show Redis Cache information"
   ]
  },
  {
   "cell_type": "code",
   "execution_count": null,
   "metadata": {},
   "outputs": [],
   "source": [
    "# install required packages\n",
    "pip install redis"
   ]
  },
  {
   "cell_type": "code",
   "execution_count": 25,
   "metadata": {},
   "outputs": [
    {
     "name": "stdout",
     "output_type": "stream",
     "text": [
      "Redis Server Information:\n",
      "Used Memory  : 5.8M\n"
     ]
    },
    {
     "data": {
      "image/png": "[encoded data removed]",
      "text/plain": [
       "<Figure size 1500x500 with 1 Axes>"
      ]
     },
     "metadata": {},
     "output_type": "display_data"
    }
   ],
   "source": [
    "import pandas as pd\n",
    "import matplotlib.pyplot as plt\n",
    "import matplotlib as mpl\n",
    "\n",
    "import redis.asyncio as redis\n",
    "\n",
    "async def get_redis_info():\n",
    "    r = await redis.from_url(\n",
    "        f\"rediss://:{rediscache_key}@{rediscache_host}:{rediscache_port}\"\n",
    "    )\n",
    "\n",
    "    info = await r.info()\n",
    "\n",
    "    print(\"Redis Server Information:\")\n",
    "    print(f\"Used Memory  : {info['used_memory_human']}\")\n",
    "    # Display the Redis info in a pandas DataFrame and plot it\n",
    "\n",
    "    def convert_memory_to_bytes(memory_str):\n",
    "        units = {\"K\": 1024, \"M\": 1024**2, \"G\": 1024**3}\n",
    "        if memory_str[-1] in units:\n",
    "            return float(memory_str[:-1]) * units[memory_str[-1]]\n",
    "        return float(memory_str)\n",
    "\n",
    "    redis_info = {\n",
    "        'Metric': ['Cache Hits', 'Cache Misses', 'Evicted Keys', 'Expired Keys'],\n",
    "        'Value': [info['keyspace_hits'], info['keyspace_misses'], info['evicted_keys'], info['expired_keys']]\n",
    "    }\n",
    "\n",
    "    df_redis_info = pd.DataFrame(redis_info)\n",
    "    df_redis_info.plot(kind='barh', x='Metric', y='Value', legend=False)\n",
    "\n",
    "    plt.title('Redis Server Information')\n",
    "    plt.xlabel('Value')\n",
    "    plt.ylabel('Metric')\n",
    "    plt.show()\n",
    "\n",
    "    await r.aclose()\n",
    "\n",
    "await get_redis_info()"
   ]
  },
  {
   "cell_type": "markdown",
   "metadata": {},
   "source": [
    "### 🗑️ Clean up resources\n",
    "\n",
    "When you're finished with the lab, you should remove all your deployed resources from Azure to avoid extra charges and keep your Azure subscription uncluttered.\n",
    "Use the [clean-up-resources notebook](clean-up-resources.ipynb) for that."
   ]
  }
 ],
 "metadata": {
  "kernelspec": {
   "display_name": "Python 3",
   "language": "python",
   "name": "python3"
  },
  "language_info": {
   "codemirror_mode": {
    "name": "ipython",
    "version": 3
   },
   "file_extension": ".py",
   "mimetype": "text/x-python",
   "name": "python",
   "nbconvert_exporter": "python",
   "pygments_lexer": "ipython3",
   "version": "3.12.3"
  }
 },
 "nbformat": 4,
 "nbformat_minor": 2
}
