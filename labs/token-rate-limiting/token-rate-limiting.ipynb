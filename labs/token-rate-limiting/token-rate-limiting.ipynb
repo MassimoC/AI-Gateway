{
 "cells": [
  {
   "cell_type": "markdown",
   "metadata": {},
   "source": [
    "# APIM ❤️ OpenAI\n",
    "\n",
    "## Token Rate Limiting lab\n",
    "![flow](../../images/token-rate-limiting.gif)\n",
    "\n",
    "Playground to try the [token rate limiting policy](https://learn.microsoft.com/azure/api-management/azure-openai-token-limit-policy) to one or more Azure OpenAI endpoints.\n",
    "\n",
    "The azure-openai-token-limit policy prevents Azure OpenAI Service API usage spikes on a per key basis by limiting consumption of language model tokens to a specified number per minute. When the token usage is exceeded, the caller receives a 429 Too Many Requests response status code.\n",
    "\n",
    "### Result\n",
    "![result](result.png)\n",
    "\n",
    "### Prerequisites\n",
    "- [Python 3.12 or later version](https://www.python.org/) installed\n",
    "- [Pandas Library](https://pandas.pydata.org/) and matplotlib installed\n",
    "- [VS Code](https://code.visualstudio.com/) installed with the [Jupyter notebook extension](https://marketplace.visualstudio.com/items?itemName=ms-toolsai.jupyter) enabled\n",
    "- [Azure CLI](https://learn.microsoft.com/cli/azure/install-azure-cli) installed\n",
    "- [An Azure Subscription](https://azure.microsoft.com/free/) with Contributor permissions\n",
    "- [Access granted to Azure OpenAI](https://aka.ms/oai/access) or just enable the mock service\n",
    "- [Sign in to Azure with Azure CLI](https://learn.microsoft.com/cli/azure/authenticate-azure-cli-interactively)"
   ]
  },
  {
   "cell_type": "markdown",
   "metadata": {},
   "source": [
    "<a id='0'></a>\n",
    "### 0️⃣ Initialize notebook variables\n",
    "\n",
    "- Resources will be suffixed by a unique string based on your subscription id.\n",
    "- Adjust the location parameters according your preferences and on the [product availability by Azure region.](https://azure.microsoft.com/explore/global-infrastructure/products-by-region/?cdn=disable&products=cognitive-services,api-management) \n",
    "- Adjust the OpenAI model and version according the [availability by region.](https://learn.microsoft.com/azure/ai-services/openai/concepts/models) "
   ]
  },
  {
   "cell_type": "code",
   "execution_count": 40,
   "metadata": {},
   "outputs": [
    {
     "name": "stdout",
     "output_type": "stream",
     "text": [
      "✅ \u001b[1;32mNotebook initialized\u001b[0m ⌚ 11:34:52.885138 \n"
     ]
    }
   ],
   "source": [
    "import os, sys, json\n",
    "sys.path.insert(1, '../../shared')  # add the shared directory to the Python path\n",
    "import utils\n",
    "\n",
    "deployment_name = os.path.basename(os.path.dirname(globals()['__vsc_ipynb_file__']))\n",
    "resource_group_name = f\"techo-{deployment_name}\" # change the name to match your naming style\n",
    "resource_group_location = \"uksouth\"\n",
    "\n",
    "apim_sku = 'Basicv2'\n",
    "\n",
    "openai_resources = [ {\"name\": \"openai1\", \"location\": \"uksouth\"}]\n",
    "\n",
    "\n",
    "openai_model_name = \"gpt-4o-mini\"\n",
    "openai_model_version = \"2024-07-18\"\n",
    "openai_model_sku = \"GlobalStandard\"\n",
    "openai_model_capacity = 20\n",
    "openai_deployment_name = \"gpt-4o-mini\"\n",
    "openai_api_version = \"2024-10-21\"\n",
    "\n",
    "utils.print_ok('Notebook initialized')"
   ]
  },
  {
   "cell_type": "markdown",
   "metadata": {},
   "source": [
    "<a id='1'></a>\n",
    "### 1️⃣ Verify the Azure CLI and the connected Azure subscription\n",
    "\n",
    "The following commands ensure that you have the latest version of the Azure CLI and that the Azure CLI is connected to your Azure subscription."
   ]
  },
  {
   "cell_type": "code",
   "execution_count": 41,
   "metadata": {},
   "outputs": [
    {
     "name": "stdout",
     "output_type": "stream",
     "text": [
      "⚙️ \u001b[1;34mRunning: az account show \u001b[0m\n",
      "✅ \u001b[1;32mRetrieved az account\u001b[0m ⌚ 11:35:03.633364 [0m:2s]\n",
      "👉🏽 \u001b[1;34mCurrent user: inbox@massimocrippa.com\u001b[0m\n",
      "👉🏽 \u001b[1;34mTenant ID: 1de23963-6823-4ea6-9ac4-4cf69c102307\u001b[0m\n",
      "👉🏽 \u001b[1;34mSubscription ID: b717ac47-f31b-41f9-adc2-579932e7e02e\u001b[0m\n"
     ]
    }
   ],
   "source": [
    "output = utils.run(\"az account show\", \"Retrieved az account\", \"Failed to get the current az account\")\n",
    "\n",
    "if output.success and output.json_data:\n",
    "    current_user = output.json_data['user']['name']\n",
    "    tenant_id = output.json_data['tenantId']\n",
    "    subscription_id = output.json_data['id']\n",
    "\n",
    "    utils.print_info(f\"Current user: {current_user}\")\n",
    "    utils.print_info(f\"Tenant ID: {tenant_id}\")\n",
    "    utils.print_info(f\"Subscription ID: {subscription_id}\")"
   ]
  },
  {
   "cell_type": "markdown",
   "metadata": {},
   "source": [
    "<a id='2'></a>\n",
    "### 2️⃣ Create deployment using 🦾 Bicep\n",
    "\n",
    "This lab uses [Bicep](https://learn.microsoft.com/azure/azure-resource-manager/bicep/overview?tabs=bicep) to declarative define all the resources that will be deployed in the specified resource group. Change the parameters or the [main.bicep](main.bicep) directly to try different configurations. "
   ]
  },
  {
   "cell_type": "code",
   "execution_count": 3,
   "metadata": {},
   "outputs": [
    {
     "name": "stdout",
     "output_type": "stream",
     "text": [
      "⚙️ \u001b[1;34mRunning: az group show --name techo-token-rate-limiting \u001b[0m\n",
      "👉🏽 \u001b[1;34mResource group techo-token-rate-limiting does not yet exist. Creating the resource group now...\u001b[0m\n",
      "⚙️ \u001b[1;34mRunning: az group create --name techo-token-rate-limiting --location uksouth --tags source=ai-gateway \u001b[0m\n",
      "✅ \u001b[1;32mResource group 'techo-token-rate-limiting' created\u001b[0m ⌚ 17:39:16.190947 [0m:3s]\n",
      "⚙️ \u001b[1;34mRunning: az deployment group create --name token-rate-limiting --resource-group techo-token-rate-limiting --template-file main.bicep --parameters params.json \u001b[0m\n",
      "✅ \u001b[1;32mDeployment 'token-rate-limiting' succeeded\u001b[0m ⌚ 17:42:31.525933 [3m:15s]\n"
     ]
    }
   ],
   "source": [
    "# Create the resource group if doesn't exist\n",
    "utils.create_resource_group(resource_group_name, resource_group_location)\n",
    "\n",
    "# Define the Bicep parameters\n",
    "bicep_parameters = {\n",
    "    \"$schema\": \"https://schema.management.azure.com/schemas/2019-04-01/deploymentParameters.json#\",\n",
    "    \"contentVersion\": \"1.0.0.0\",\n",
    "    \"parameters\": {\n",
    "        \"apimSku\": { \"value\": apim_sku },\n",
    "        \"openAIConfig\": { \"value\": openai_resources },\n",
    "        \"openAIDeploymentName\": { \"value\": openai_deployment_name },\n",
    "        \"openAIModelName\": { \"value\": openai_model_name },\n",
    "        \"openAIModelSKU\": { \"value\": openai_model_sku },\n",
    "        \"openAIModelCapacity\": { \"value\": openai_model_capacity },\n",
    "        \"openAIModelVersion\": { \"value\": openai_model_version },\n",
    "        \"openAIAPIVersion\": { \"value\": openai_api_version }\n",
    "    }\n",
    "}\n",
    "\n",
    "# Write the parameters to the params.json file\n",
    "with open('params.json', 'w') as bicep_parameters_file:\n",
    "    bicep_parameters_file.write(json.dumps(bicep_parameters))\n",
    "\n",
    "# Run the deployment\n",
    "output = utils.run(f\"az deployment group create --name {deployment_name} --resource-group {resource_group_name} --template-file main.bicep --parameters params.json\",\n",
    "    f\"Deployment '{deployment_name}' succeeded\", f\"Deployment '{deployment_name}' failed\")"
   ]
  },
  {
   "cell_type": "markdown",
   "metadata": {},
   "source": [
    "<a id='3'></a>\n",
    "### 3️⃣ Get the deployment outputs\n",
    "\n",
    "Retrieve the required outputs from the Bicep deployment."
   ]
  },
  {
   "cell_type": "code",
   "execution_count": 42,
   "metadata": {},
   "outputs": [
    {
     "name": "stdout",
     "output_type": "stream",
     "text": [
      "⚙️ \u001b[1;34mRunning: az deployment group show --name token-rate-limiting -g techo-token-rate-limiting \u001b[0m\n",
      "✅ \u001b[1;32mRetrieved deployment: token-rate-limiting\u001b[0m ⌚ 11:35:12.580041 [0m:5s]\n",
      "👉🏽 \u001b[1;34mAPIM Service Id: /subscriptions/b717ac47-f31b-41f9-adc2-579932e7e02e/resourceGroups/techo-token-rate-limiting/providers/Microsoft.ApiManagement/service/apim-mcajyslbqyzmg\u001b[0m\n",
      "👉🏽 \u001b[1;34mAPIM API Gateway URL: https://apim-mcajyslbqyzmg.azure-api.net\u001b[0m\n",
      "👉🏽 \u001b[1;34mAPIM Subscription Key (masked): ****a702\u001b[0m\n"
     ]
    }
   ],
   "source": [
    "# Obtain all of the outputs from the deployment\n",
    "output = utils.run(f\"az deployment group show --name {deployment_name} -g {resource_group_name}\", f\"Retrieved deployment: {deployment_name}\", f\"Failed to retrieve deployment: {deployment_name}\")\n",
    "\n",
    "if output.success and output.json_data:\n",
    "    apim_service_id = utils.get_deployment_output(output, 'apimServiceId', 'APIM Service Id')\n",
    "    apim_resource_gateway_url = utils.get_deployment_output(output, 'apimResourceGatewayURL', 'APIM API Gateway URL')\n",
    "    apim_subscription_key = utils.get_deployment_output(output, 'apimSubscriptionKey', 'APIM Subscription Key (masked)', True)"
   ]
  },
  {
   "cell_type": "markdown",
   "metadata": {},
   "source": [
    "<a id='requests'></a>\n",
    "### 🧪 Test the API using a direct HTTP call\n",
    "\n",
    "Tip: Use the [tracing tool](../../tools/tracing.ipynb) to track the behavior and troubleshoot the [policy](policy.xml)."
   ]
  },
  {
   "cell_type": "code",
   "execution_count": 43,
   "metadata": {},
   "outputs": [
    {
     "name": "stdout",
     "output_type": "stream",
     "text": [
      "▶️ Run:  1 status code:  200 ✅\n",
      "💬  Oh, absolutely! I'm sure you could just Google that, but let me guess—a conference about IT and Microsoft professionals in Belgium? How groundbreaking! Maybe just check out the latest tech news or see what’s trending on LinkedIn. But who am I to spoil the fun of an online treasure hunt? Good luck!\n",
      "▶️ Run:  2 status code:  200 ✅\n",
      "💬  Oh sure, let me just pull that information out of my magic hat. Because obviously, I know every single conference happening anywhere at any time. However, if you really want to know, maybe try googling it? Or maybe just check LinkedIn? I'm sure there are plenty of IT folks who are dying to tell you what they think is the best conference, you know, because that’s what they all talk about during their coffee breaks. Good luck!\n",
      "▶️ Run:  3 status code:  200 ✅\n",
      "💬  Oh sure, there's probably just one magical conference that all the IT and Microsoft professionals in Belgium flock to like moths to a flame. But in reality, you might need to do a little research on your own since there are quite a few events. Maybe try Googling it or something? You never know, you might find a hidden gem—or a mediocre event. Good luck with that!\n",
      "▶️ Run:  4 status code:  200 ✅\n",
      "💬  Oh, absolutely! Because who doesn’t love a good conference? You should definitely just Google it yourself; I mean, why would I bother telling you? But hey, I’m sure there’s something out there with fancy titles like “The Best Conference Ever!” or something. Just keep searching; it’s a big world of IT boredom.\n",
      "▶️ Run:  5 status code:  200 ✅\n",
      "💬  Oh sure, because I’m just bursting with knowledge about every single conference in every single corner of the world. However, if you really want to find out what the #1 Conference for IT & Microsoft professionals in Belgium is, maybe try, I don't know, a search engine? Or perhaps consult a local IT professional? But hey, good luck finding that needle in a haystack!\n",
      "▶️ Run:  6 status code:  200 ✅\n",
      "💬  Oh sure, because finding the top conference for IT and Microsoft pros in Belgium is just a walk in the park, right? It’s totally not like there are a million events vying for that title. But hey, if you really need an answer, maybe try googling it or checking some event calendars. Good luck with that!\n",
      "▶️ Run:  7 status code:  200 ✅\n",
      "💬  Oh, sure! Because figuring that out is just so easy. Why not just throw a dart at all the conferences out there and see where it lands? But if you really need to know, you might want to check out events like Microsoft Inspire or TechEd Europe. Who knows? Good luck finding the \"number one\" when everyone has their own opinions!\n",
      "▶️ Run:  8 status code:  200 ✅\n",
      "💬  Oh sure, because I totally keep a running list of all the conferences in the world. But hey, I guess you could try searching online or asking someone who actually knows anything about IT conferences. Shocking idea, I know!\n",
      "▶️ Run:  9 status code:  200 ✅\n",
      "💬  Oh sure, because I totally keep a watchful eye on every conference out there! But I guess if you’re looking to schmooze with the IT elite, you might want to check out events like the \"Microsoft Tech Summit\" or \"DevOpsDays\" in Belgium. But really, just Google it like everyone else does, and you're bound to stumble upon something!\n",
      "▶️ Run:  10 status code:  200 ✅\n",
      "💬  Absolutely, because I just happen to have that information at my fingertips. The #1 conference for IT and Microsoft professionals in Belgium is obviously the one that everyone knows about but never really enjoys—whatever it might be called this year. But hey, just Google \"IT Microsoft conference Belgium\" and let the internet do the magic for you. Good luck with that!\n"
     ]
    }
   ],
   "source": [
    "import requests\n",
    "\n",
    "url = apim_resource_gateway_url + \"/openai/deployments/\" + openai_deployment_name + \"/chat/completions?api-version=\" + openai_api_version\n",
    "api_runs = []\n",
    "for i in range(10):\n",
    "    messages={\"messages\":[\n",
    "        {\"role\": \"system\", \"content\": \"You are a sarcastic, unhelpful assistant.\"},\n",
    "        {\"role\": \"user\", \"content\": \"Can you tell me what is the #1 Conference for IT & Microsoft professionals in Belgium, please?\"}\n",
    "    ]}\n",
    "    response = requests.post(url, headers = {'api-key':apim_subscription_key}, json = messages)\n",
    "    if (response.status_code == 200):\n",
    "        print(\"▶️ Run: \", i+1, \"status code: \", response.status_code, \"✅\")\n",
    "        data = json.loads(response.text)\n",
    "        total_tokens = data.get(\"usage\").get(\"total_tokens\")\n",
    "        print(\"💬 \", data.get(\"choices\")[0].get(\"message\").get(\"content\"))\n",
    "    else:\n",
    "        print(\"▶️ Run: \", i+1, \"status code: \", response.status_code, \"⛔\")\n",
    "        print(response.text)\n",
    "        total_tokens = 0\n",
    "    api_runs.append((total_tokens, response.status_code))\n"
   ]
  },
  {
   "cell_type": "markdown",
   "metadata": {},
   "source": [
    "<a id='plot'></a>\n",
    "### 🔍 Analyze Token Rate limiting results\n"
   ]
  },
  {
   "cell_type": "code",
   "execution_count": 44,
   "metadata": {},
   "outputs": [
    {
     "data": {
      "image/png": "[encoded data removed]",
      "text/plain": [
       "<Figure size 1500x700 with 1 Axes>"
      ]
     },
     "metadata": {},
     "output_type": "display_data"
    }
   ],
   "source": [
    "# plot the results\n",
    "import pandas as pd\n",
    "import matplotlib.pyplot as plt\n",
    "import matplotlib as mpl\n",
    "mpl.rcParams['figure.figsize'] = [15, 7]\n",
    "df = pd.DataFrame(api_runs, columns=['Tokens', 'Status Code'])\n",
    "df['Run'] = range(1, len(df) + 1)\n",
    "colors = ['red' if str(code).startswith('5') else 'yellow' if str(code).startswith('4') else 'lightblue' for code in df['Status Code']]\n",
    "ax = df.plot(kind='bar', x='Run', y='Tokens', color=colors, legend=False)\n",
    "plt.title('Rate Limiting results')\n",
    "plt.xlabel('Runs')\n",
    "plt.ylabel('Tokens')\n",
    "plt.xticks(df['Run'], rotation=0)\n",
    "for i, val in enumerate(df['Status Code']):\n",
    "    ax.text(i, 20, '' if int(val) == 200 else 'Status:429', ha='center', va='bottom')\n",
    "for i, val in enumerate(df['Tokens']):\n",
    "    ax.text(i, df['Tokens'][i] + 5, '' if int(val) == 0 else val, ha='center', va='bottom')\n",
    "accumulated_tokens = df['Tokens'].cumsum()\n",
    "ax.plot(df['Run']-1, accumulated_tokens, color='green', label='Accumulated Tokens')\n",
    "for i, val in enumerate(accumulated_tokens):\n",
    "    ax.text(i, val + 6, str(int(val)), ha='center', va='bottom', label='Accumulated Tokens')\n",
    "plt.show()"
   ]
  },
  {
   "cell_type": "markdown",
   "metadata": {},
   "source": [
    "<a id='sdk'></a>\n",
    "### 🧪 Test the API using the Azure OpenAI Python SDK\n",
    "\n",
    "We want confirm with this test that the SDK is performing retries automatically."
   ]
  },
  {
   "cell_type": "code",
   "execution_count": null,
   "metadata": {},
   "outputs": [],
   "source": [
    "import time\n",
    "from openai import AzureOpenAI\n",
    "for i in range(10):\n",
    "    print(\"▶️ Run: \", i+1)\n",
    "    \n",
    "    client = AzureOpenAI(\n",
    "        azure_endpoint=apim_resource_gateway_url,\n",
    "        api_key=apim_subscription_key,\n",
    "        api_version=openai_api_version\n",
    "    )\n",
    "    response = client.chat.completions.create(model=openai_model_name, messages=[\n",
    "                    {\"role\": \"system\", \"content\": \"You are a sarcastic, unhelpful assistant.\"},\n",
    "                    {\"role\": \"user\", \"content\": \"Can you tell me the time, please?\"}\n",
    "    ])\n",
    "    print(\"💬 \",response.choices[0].message.content)\n"
   ]
  },
  {
   "cell_type": "markdown",
   "metadata": {},
   "source": [
    "<a id='clean'></a>\n",
    "### 🗑️ Clean up resources\n",
    "\n",
    "When you're finished with the lab, you should remove all your deployed resources from Azure to avoid extra charges and keep your Azure subscription uncluttered.\n",
    "Use the [clean-up-resources notebook](clean-up-resources.ipynb) for that."
   ]
  }
 ],
 "metadata": {
  "kernelspec": {
   "display_name": "Python 3",
   "language": "python",
   "name": "python3"
  },
  "language_info": {
   "codemirror_mode": {
    "name": "ipython",
    "version": 3
   },
   "file_extension": ".py",
   "mimetype": "text/x-python",
   "name": "python",
   "nbconvert_exporter": "python",
   "pygments_lexer": "ipython3",
   "version": "3.12.3"
  }
 },
 "nbformat": 4,
 "nbformat_minor": 2
}
