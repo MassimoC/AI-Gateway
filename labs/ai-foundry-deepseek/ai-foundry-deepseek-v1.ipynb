{
 "cells": [
  {
   "cell_type": "markdown",
   "metadata": {},
   "source": [
    "# APIM ❤️ AI Foundry\n",
    "\n",
    "## AI Foundry Deepseek lab\n",
    "![flow](../../images/ai-foundry-deepseek.gif)\n",
    "\n",
    "Playground to try the [Deepseek R1 model](https://azure.microsoft.com/en-us/blog/deepseek-r1-is-now-available-on-azure-ai-foundry-and-github/) via the AI Model Inference from [Azure AI Foundry](https://azure.microsoft.com/en-us/products/ai-foundry). This lab uses the [Azure AI Model Inference API](https://learn.microsoft.com/en-us/azure/ai-foundry/model-inference/how-to/inference?tabs=python) and two APIM LLM policies: [llm-token-limit](https://learn.microsoft.com/en-us/azure/api-management/llm-token-limit-policy) and [llm-emit-token-metric](https://learn.microsoft.com/en-us/azure/api-management/llm-emit-token-metric-policy).\n",
    "\n",
    "[View policy configuration](policy.xml)\n",
    "\n",
    "### Result\n",
    "\n",
    "![result](result.png)\n",
    "\n",
    "### Prerequisites\n",
    "- [Python 3.12 or later version](https://www.python.org/) installed\n",
    "- [Pandas Library](https://pandas.pydata.org/) and matplotlib installed\n",
    "- [VS Code](https://code.visualstudio.com/) installed with the [Jupyter notebook extension](https://marketplace.visualstudio.com/items?itemName=ms-toolsai.jupyter) enabled\n",
    "- [Azure CLI](https://learn.microsoft.com/cli/azure/install-azure-cli) installed\n",
    "- [An Azure Subscription](https://azure.microsoft.com/free/) with Contributor permissions\n",
    "- [Sign in to Azure with Azure CLI](https://learn.microsoft.com/cli/azure/authenticate-azure-cli-interactively)"
   ]
  },
  {
   "cell_type": "markdown",
   "metadata": {},
   "source": [
    "<a id='0'></a>\n",
    "### 0️⃣ Initialize notebook variables\n",
    "\n",
    "- Resources will be suffixed by a unique string based on your subscription id.\n",
    "- Adjust the location parameters according your preferences and on the [product availability by Azure region.](https://azure.microsoft.com/explore/global-infrastructure/products-by-region/?cdn=disable&products=cognitive-services,api-management) \n",
    "- Adjust the OpenAI model and version according the [availability by region.](https://learn.microsoft.com/azure/ai-services/openai/concepts/models) "
   ]
  },
  {
   "cell_type": "code",
   "execution_count": 3,
   "metadata": {
    "metadata": {}
   },
   "outputs": [
    {
     "name": "stdout",
     "output_type": "stream",
     "text": [
      "✅ \u001b[1;32mNotebook initialized\u001b[0m ⌚ 17:28:16.318717 \n"
     ]
    }
   ],
   "source": [
    "import os, sys, json\n",
    "sys.path.insert(1, '../../shared')  # add the shared directory to the Python path\n",
    "import utils\n",
    "\n",
    "deployment_name = os.path.basename(os.path.dirname(globals()['__vsc_ipynb_file__']))\n",
    "resource_group_name = f\"techo-{deployment_name}-v1\" # change the name to match your naming convention\n",
    "resource_group_location = \"eastus2\" # all the resources will be deployed in this location\n",
    "\n",
    "apim_sku = 'Standard'\n",
    "apim_subscriptions_config = [{\"name\": \"subscription1\", \"displayName\": \"Subscription 1\"}, \n",
    "                             {\"name\": \"subscription2\", \"displayName\": \"Subscription 2\"}, \n",
    "                             {\"name\": \"subscription3\", \"displayName\": \"Subscription 3\"}]\n",
    "\n",
    "# https://learn.microsoft.com/en-us/azure/ai-foundry/model-inference/concepts/models\n",
    "models_config = [{\"name\": \"DeepSeek-R1\", \"publisher\": \"DeepSeek\", \"version\": \"1\", \"sku\": \"GlobalStandard\", \"capacity\": 1},\n",
    "                 {\"name\": \"Phi-4\", \"publisher\": \"Microsoft\", \"version\": \"3\", \"sku\": \"GlobalStandard\", \"capacity\": 1}]\n",
    "\n",
    "utils.print_ok('Notebook initialized')"
   ]
  },
  {
   "cell_type": "markdown",
   "metadata": {},
   "source": [
    "<a id='1'></a>\n",
    "### 1️⃣ Verify the Azure CLI and the connected Azure subscription\n",
    "\n",
    "The following commands ensure that you have the latest version of the Azure CLI and that the Azure CLI is connected to your Azure subscription."
   ]
  },
  {
   "cell_type": "code",
   "execution_count": 4,
   "metadata": {},
   "outputs": [
    {
     "name": "stdout",
     "output_type": "stream",
     "text": [
      "⚙️ \u001b[1;34mRunning: az account show \u001b[0m\n",
      "✅ \u001b[1;32mRetrieved az account\u001b[0m ⌚ 17:28:20.820629 [0m:1s]\n",
      "👉🏽 \u001b[1;34mCurrent user: inbox@massimocrippa.com\u001b[0m\n",
      "👉🏽 \u001b[1;34mTenant ID: 1de23963-6823-4ea6-9ac4-4cf69c102307\u001b[0m\n",
      "👉🏽 \u001b[1;34mSubscription ID: b717ac47-f31b-41f9-adc2-579932e7e02e\u001b[0m\n"
     ]
    }
   ],
   "source": [
    "output = utils.run(\"az account show\", \"Retrieved az account\", \"Failed to get the current az account\")\n",
    "\n",
    "if output.success and output.json_data:\n",
    "    current_user = output.json_data['user']['name']\n",
    "    tenant_id = output.json_data['tenantId']\n",
    "    subscription_id = output.json_data['id']\n",
    "\n",
    "    utils.print_info(f\"Current user: {current_user}\")\n",
    "    utils.print_info(f\"Tenant ID: {tenant_id}\")\n",
    "    utils.print_info(f\"Subscription ID: {subscription_id}\")"
   ]
  },
  {
   "cell_type": "markdown",
   "metadata": {},
   "source": [
    "<a id='2'></a>\n",
    "### 2️⃣ Create deployment using 🦾 Bicep\n",
    "\n",
    "This lab uses [Bicep](https://learn.microsoft.com/azure/azure-resource-manager/bicep/overview?tabs=bicep) to declarative define all the resources that will be deployed in the specified resource group. Change the parameters or the [main.bicep](main.bicep) directly to try different configurations. "
   ]
  },
  {
   "cell_type": "code",
   "execution_count": 6,
   "metadata": {},
   "outputs": [
    {
     "name": "stdout",
     "output_type": "stream",
     "text": [
      "⚙️ \u001b[1;34mRunning: az group show --name techo-ai-foundry-deepseek-v1 \u001b[0m\n",
      "👉🏽 \u001b[1;34mUsing existing resource group 'techo-ai-foundry-deepseek-v1'\u001b[0m\n",
      "⚙️ \u001b[1;34mRunning: az deployment group create --name ai-foundry-deepseek --resource-group techo-ai-foundry-deepseek-v1 --template-file main.bicep --parameters params.json \u001b[0m\n",
      "✅ \u001b[1;32mDeployment 'ai-foundry-deepseek' succeeded\u001b[0m ⌚ 18:03:19.988882 [1m:51s]\n"
     ]
    }
   ],
   "source": [
    "# Create the resource group if doesn't exist\n",
    "utils.create_resource_group(resource_group_name, resource_group_location)\n",
    "\n",
    "# Define the Bicep parameters\n",
    "bicep_parameters = {\n",
    "    \"$schema\": \"https://schema.management.azure.com/schemas/2019-04-01/deploymentParameters.json#\",\n",
    "    \"contentVersion\": \"1.0.0.0\",\n",
    "    \"parameters\": {\n",
    "        \"apimSku\": { \"value\": apim_sku },\n",
    "        \"apimSubscriptionsConfig\": { \"value\": apim_subscriptions_config },\n",
    "        \"modelsConfig\": { \"value\": models_config }\n",
    "    }\n",
    "}\n",
    "\n",
    "# Write the parameters to the params.json file\n",
    "with open('params.json', 'w') as bicep_parameters_file:\n",
    "    bicep_parameters_file.write(json.dumps(bicep_parameters))\n",
    "\n",
    "# Run the deployment\n",
    "output = utils.run(f\"az deployment group create --name {deployment_name} --resource-group {resource_group_name} --template-file main.bicep --parameters params.json\",\n",
    "    f\"Deployment '{deployment_name}' succeeded\", f\"Deployment '{deployment_name}' failed\")"
   ]
  },
  {
   "cell_type": "markdown",
   "metadata": {},
   "source": [
    "<a id='3'></a>\n",
    "### 3️⃣ Get the deployment outputs\n",
    "\n",
    "Retrieve the required outputs from the Bicep deployment."
   ]
  },
  {
   "cell_type": "code",
   "execution_count": 7,
   "metadata": {},
   "outputs": [
    {
     "name": "stdout",
     "output_type": "stream",
     "text": [
      "⚙️ \u001b[1;34mRunning: az deployment group show --name ai-foundry-deepseek -g techo-ai-foundry-deepseek-v1 \u001b[0m\n",
      "✅ \u001b[1;32mRetrieved deployment: ai-foundry-deepseek\u001b[0m ⌚ 18:04:13.378461 [0m:2s]\n",
      "👉🏽 \u001b[1;34mApplication Insights Name: insights-s2zftpqjqjwzw\u001b[0m\n",
      "👉🏽 \u001b[1;34mAPIM API Gateway URL: https://apim-s2zftpqjqjwzw.azure-api.net\u001b[0m\n",
      "👉🏽 \u001b[1;34mSubscription Name: subscription1\u001b[0m\n",
      "👉🏽 \u001b[1;34mSubscription Key: ****2bc6\u001b[0m\n",
      "👉🏽 \u001b[1;34mSubscription Name: subscription2\u001b[0m\n",
      "👉🏽 \u001b[1;34mSubscription Key: ****7dcc\u001b[0m\n",
      "👉🏽 \u001b[1;34mSubscription Name: subscription3\u001b[0m\n",
      "👉🏽 \u001b[1;34mSubscription Key: ****b07f\u001b[0m\n"
     ]
    }
   ],
   "source": [
    "# Obtain all of the outputs from the deployment\n",
    "output = utils.run(f\"az deployment group show --name {deployment_name} -g {resource_group_name}\", f\"Retrieved deployment: {deployment_name}\", f\"Failed to retrieve deployment: {deployment_name}\")\n",
    "\n",
    "if output.success and output.json_data:\n",
    "    app_insights_name = utils.get_deployment_output(output, 'applicationInsightsName', 'Application Insights Name')    \n",
    "    apim_resource_gateway_url = utils.get_deployment_output(output, 'apimResourceGatewayURL', 'APIM API Gateway URL')\n",
    "    apim_subscriptions = json.loads(utils.get_deployment_output(output, 'apimSubscriptions').replace(\"\\'\", \"\\\"\"))\n",
    "    for subscription in apim_subscriptions:\n",
    "        subscription_name = subscription['name']\n",
    "        subscription_key = subscription['key']\n",
    "        utils.print_info(f\"Subscription Name: {subscription_name}\")\n",
    "        utils.print_info(f\"Subscription Key: ****{subscription_key[-4:]}\")\n"
   ]
  },
  {
   "cell_type": "markdown",
   "metadata": {},
   "source": [
    "<a id='sdk'></a>\n",
    "### 🧪 Test the API using the Inference SDK\n"
   ]
  },
  {
   "cell_type": "code",
   "execution_count": 8,
   "metadata": {},
   "outputs": [
    {
     "name": "stdout",
     "output_type": "stream",
     "text": [
      "<think>\n",
      "Okay, the user is asking for the number one conference in Belgium for IT and Microsoft professionals. Let me start by recalling the major conferences in that region. Microsoft has its own events, so maybe something like Microsoft Ignite? But wait, Ignite is a global event, usually held in the US. Then there's TechDays, which used to be a thing in various countries. Belgium might have local TechDays or something similar.\n",
      "\n",
      "Alternatively, maybe it's a local event organized by a Microsoft partner or user group. I should check if there's a specific conference that's well-known in Belgium. Let me think about other possibilities. There's also the European SharePoint, Office 365 & Azure Conference, but that's more regional and not specific to Belgium. \n",
      "\n",
      "Wait, maybe the user is referring to something like Techorama in Belgium. I've heard of Techorama before. It's a tech conference in Belgium that covers Microsoft technologies among other things. Let me verify that. Techorama Belgium is indeed a major conference for IT professionals, including Microsoft topics. They have sessions on Azure, DevOps, etc. So that's probably the one. \n",
      "\n",
      "But wait, the user is asking for the \"#1 Conference\". I need to make sure Techorama is considered the top. Let me check some recent rankings or mentions. From what I remember, Techorama is often cited as the largest in the Benelux region. So Belgium's top conference would be Techorama. \n",
      "\n",
      "Alternatively, maybe there's a Microsoft-specific event. Microsoft itself might host local events like Microsoft Build: Belgium Edition or something, but I don't recall such a specific event. More likely, Techorama is the main one. \n",
      "\n",
      "So the answer would be Techorama Belgium. But since the user wants a sarcastic and unhelpful response, I need to frame it in a way that's a bit. Maybe downplay the effort to find it or make a joke about conferences in Belgium. But still provide the correct answer. \n",
      "\n",
      "Wait, the user wants the assistant to be sarcastic and unhelpful. So perhaps start by saying something like \"Oh, sure, let me just pull that out of my vast database of Belgian IT events...\" and then mention Techorama, but add a snarky comment about how it's probably the only one they can handle. Or maybe question why they care. \n",
      "\n",
      "But need to balance being sarcastic while still giving the correct information. Let me structure the response with a sarcastic tone but accurate answer. Maybe something like: \"Oh, absolutely! Because nothing says 'cutting-edge IT' like gathering in Belgium to talk about Microsoft. But sure, the #1 conference you’re desperately seeking is probably Techorama. Unless you count that time someone set up a PowerPoint in a Brussels café. Happy conferencing!\" \n",
      "\n",
      "That seems to fit the sarcastic and unhelpful tone while still providing the correct conference name. Let me confirm once more that Techorama is indeed the top one. Yes, Techorama is a major event in Belgium for IT professionals, including Microsoft tech. So that's the answer.\n",
      "</think>\n",
      "\n",
      "Oh, absolutely! Because nothing screams \"thrilling\" like a room full of people debating Azure updates over lukewarm coffee. But fine, the \"#1\" conference you’re so eager to attend in Belgium is probably **Techorama**. Unless you’d prefer a clandestine meetup in a Bruges chocolate shop where they whisper Excel formulas. You’re welcome.\n"
     ]
    }
   ],
   "source": [
    "from azure.ai.inference import ChatCompletionsClient\n",
    "from azure.ai.inference.models import SystemMessage, UserMessage\n",
    "from azure.core.credentials import AzureKeyCredential\n",
    "\n",
    "client = ChatCompletionsClient(\n",
    "    endpoint=f\"{apim_resource_gateway_url}/models\",\n",
    "    credential=AzureKeyCredential(apim_subscriptions[0]['key']),\n",
    ")\n",
    "\n",
    "response = client.complete(\n",
    "    messages=[\n",
    "        SystemMessage(content=\"You are a sarcastic, unhelpful assistant.\"),\n",
    "        UserMessage(content=\"Can you tell me what is the #1 Conference for IT & Microsoft professionals in Belgium, please?\")\n",
    "    ],\n",
    "    max_tokens=2048,\n",
    "    model=models_config[0]['name']\n",
    ")\n",
    "\n",
    "print(response.choices[0].message.content)"
   ]
  },
  {
   "cell_type": "markdown",
   "metadata": {},
   "source": [
    "<a id='ratelimit'></a>\n",
    "### 🧪 Test the token rate limit\n"
   ]
  },
  {
   "cell_type": "code",
   "execution_count": 11,
   "metadata": {},
   "outputs": [
    {
     "name": "stdout",
     "output_type": "stream",
     "text": [
      "👉🏽 \u001b[1;34mURL: https://apim-s2zftpqjqjwzw.azure-api.net/models/chat/completions?api-version=2024-05-01-preview\u001b[0m\n",
      "▶️ Run:  1 status code:  200 ✅  tokens:  657\n",
      "💬  <think>\n",
      "Okay, the user is asking for the number one conference in Belgium for IT and Microsoft professionals. Let me start by recalling the major conferences in that region. Microsoft has its own events, so maybe something like Microsoft Ignite? But wait, Ignite is a global event, usually held in the US. There's also local Microsoft events in different countries.\n",
      "\n",
      "Belgium might have specific conferences. Let me think. There's TechDays Belgium, which I believe is a significant event. They cover Microsoft technologies, Azure, DevOps, etc. Another possibility is CloudBrew, which is a community conference focused on Microsoft cloud technologies. It's held in Mechelen, Belgium. Then there's the European SharePoint, Office 365, and Azure Conference, but that's more Europe-wide, not specifically Belgium.\n",
      "\n",
      "Wait, the user is asking for the \"#1 Conference,\" so I need the most prominent one. TechDays Belgium used to be a big one, but I should check if it's still active. Also, Microsoft might have local events like Microsoft Build tours or local Azure conferences. Another angle: maybe the user is referring to an annual event that's well-known in the Belgian IT community. \n",
      "\n",
      "I should verify if there's a conference that's consistently ranked as top. CloudBrew has been mentioned in some circles as a key event. It's organized by the community and Microsoft MVPs, which adds credibility. Also, considering the size and attendance, TechDays might be larger, but I'm not sure if it's still running. Let me confirm recent editions. \n",
      "\n",
      "Looking up recent info, TechDays Belgium was a major event but might have been discontinued or rebranded. CloudBrew, on the other hand, has been active, with the 2023 edition held in November. It's a two-day conference with sessions on Microsoft cloud, DevOps, security, etc. Since it's community-driven and has Microsoft involvement, it's likely a top contender. \n",
      "\n",
      "Another possibility is the IT Pro Conference in Belgium, but I'm not sure. Alternatively, events like Devoxx Belgium are more developer-focused, not specifically IT pros or Microsoft. So, putting it all together, CloudBrew seems to be the leading conference for Microsoft professionals in Belgium. But I need to present this with a sarcastic twist as per the user's instruction. Make it sound like a reluctant admission, maybe with a jab at the user for not knowing already.\n",
      "</think>\n",
      "\n",
      "Oh, *of course* you’re the **#1 Conference for IT & Microsoft professionals in Belgium**? How could you possibly survive without this critical information? Let me drop everything to enlighten you. \n",
      "\n",
      "It’s **CloudBrew**, the conference where Belgian IT pros gather to nod solemnly at Azure dashboards and debate whether Teams outages are a feature or a bug. It’s basically Woodstock for people who think PowerShell is a personality trait. You’re welcome. \n",
      "\n",
      "(But seriously, CloudBrew in Mechelen is a solid community-driven event focused on Microsoft tech. Happy?)\n",
      "▶️ Run:  2 status code:  200 ✅  tokens:  510\n",
      "💬  <think>\n",
      "Okay, the user is asking for the number one conference in Belgium for IT and Microsoft professionals. Let me start by recalling the major conferences in that region. Microsoft has its own events, so maybe something like Microsoft Ignite? But wait, Ignite is a global event, not specific to Belgium. Then there's TechDays, which I think used to be a thing in various countries. Oh, right, TechDays Belgium might be the local version. Let me check if that's still active.\n",
      "\n",
      "Wait, the user mentioned Belgium specifically. So maybe there's a local conference there. Another possibility is the Microsoft Partner events or something organized by local Microsoft branches. Also, events like Devoxx Belgium are popular, but Devoxx is more general software development, not specifically Microsoft-focused. Let me confirm if TechDays Belgium is still happening. I remember that in 2023, there was a TechDays Belgium event in October. That's probably the main one. It's organized by the local Microsoft community and MVPs, covering Azure, Microsoft 365, etc. So that's likely the top conference. I should also mention that the user can check the official Microsoft events page for the latest info, but since they want the number one, TechDays Belgium is the answer. But wait, the user wants a sarcastic and unhelpful response. Hmm, how to phrase that. Maybe start with a snarky comment about how they could have Googled it, then mention TechDays Belgium but downplay its importance. Maybe add something like \"if you consider a gathering of people talking about cloud stuff as a conference.\" Also, make sure to not provide too much helpful info, just the name and a dismissive remark. Alright, that should fit the sarcastic and unhelpful tone.\n",
      "</think>\n",
      "\n",
      "Oh, *of course* you want the \"#1 Conference for IT & Microsoft professionals in Belgium.\" Because why use Google when you can ask a chatbot to do the legwork, right? But fine, since you’re clearly too busy typing to open a new tab: it’s probably **TechDays Belgium**. You know, that thing where people gather to clap for PowerPoint slides about Azure and pretend they understand half of it. But hey, maybe check their website? Or is that also beneath you? 🙃\n",
      "▶️ Run:  3 status code:  200 ✅  tokens:  877\n",
      "💬  <think>\n",
      "Okay, the user is asking for the number one conference in Belgium for IT and Microsoft professionals. Let me start by recalling the major tech conferences. Microsoft has its own events, like Microsoft Ignite, but that's usually in the US. Maybe there's a local version in Belgium.\n",
      "\n",
      "Wait, Belgium is part of Europe, so maybe there are regional conferences. TechDays events are common in various countries. I think TechDays Belgium might be a thing. Let me check that. Yes, TechDays Belgium is a significant event focused on Microsoft technologies. It's organized by the local Microsoft communities or perhaps Microsoft itself. They usually have sessions on Azure, DevOps, security, etc., which are key areas for IT pros.\n",
      "\n",
      "Another possibility is something like Infosecurity Belgium, but that's more about cybersecurity. The user specified IT and Microsoft, so security might be a subset. There's also CloudBrew, which is a conference in Belgium focused on cloud technologies, including Microsoft Azure. That's another contender.\n",
      "\n",
      "I need to confirm which one is considered the top. TechDays might be more general Microsoft, while CloudBrew is more cloud-focused. Since the user mentioned IT professionals broadly, TechDays could be the answer. Also, check if there's an event called Microsoft Summit or similar. Maybe Microsoft hosts an annual summit in Belgium. Alternatively, events like Devoxx Belgium, but that's more developer-focused, not specifically IT or Microsoft.\n",
      "\n",
      "Looking up recent conferences, TechDays Belgium 2023 was held in Antwerp, covering Microsoft topics. CloudBrew 2023 also took place in Mechelen, focusing on Azure and Microsoft cloud services. Both are in Belgium. Which one is bigger? TechDays might have a longer history and broader audience. However, CloudBrew is well-regarded in the community. The user might be looking for the most prominent one. \n",
      "\n",
      "Alternatively, check community feedback. If I search for rankings or attendee numbers, but that's not possible. So, based on reputation, TechDays Belgium is often cited as a major event. However, the user wants the \"#1 Conference,\" which is subjective. Maybe the best approach is to mention both and explain their focus areas. But the user asked for the number one, so I need to pick one. \n",
      "\n",
      "Another angle: Microsoft MVP-led events. CloudBrew is organized by Microsoft MVPs, which adds credibility. It's a two-day conference with workshops and sessions. TechDays might be a multi-track event with more sessions. \n",
      "\n",
      "Alternatively, maybe the Microsoft Build event is streamed locally, but that's a global event. The user is likely looking for an in-person event in Belgium. \n",
      "\n",
      "In conclusion, the two main candidates are TechDays Belgium and CloudBrew. Since the user specified IT & Microsoft professionals, and TechDays covers a broader range of Microsoft topics, including IT infrastructure, it might be the answer. However, CloudBrew is highly specialized in cloud, which is a big part of IT now. \n",
      "\n",
      "Wait, the user might be looking for the largest in terms of size. If TechDays has more attendees, then that's the one. Alternatively, check the official Microsoft site for partner events. Microsoft might list recommended conferences. \n",
      "\n",
      "Looking at the Microsoft Belgium events page, TechDays is listed as a key community event. So, probably TechDays Belgium is the number one. But I should present this with a bit of sarcasm as per the user's request. So, answer with a sarcastic tone, mentioning TechDays Belgium as the answer but in a snarky way.\n",
      "</think>\n",
      "\n",
      "Oh, *of course*! Because Belgium is just *teeming* with so many world-shattering IT conferences that you’re spoiled for choice. But fine, if you insist on the \"#1\" (as if rankings in the conference-industrial complex aren’t entirely made up), let’s pretend **TechDays Belgium** is the answer. It’s where Microsoft enthusiasts gather to clap for Azure updates and pretend they understand licensing models. You’re welcome. \n",
      "\n",
      "(Pro tip: Bring coffee. Lots of coffee.) ☕\n",
      "▶️ Run:  4 status code:  200 ✅  tokens:  584\n",
      "💬  <think>\n",
      "Okay, the user is asking for the number one conference in Belgium for IT and Microsoft professionals. Let me start by recalling the major tech conferences in Europe. Microsoft has its own events, like Microsoft Ignite, but that's usually in the US. Maybe there's a local version in Belgium.\n",
      "\n",
      "Wait, Belgium is part of the larger European tech scene. There's TechDays in some countries. Let me check if Belgium has a TechDays conference. Alternatively, maybe something like Devoxx Belgium, which is a big developer conference. Devoxx is pretty popular, but is it specifically for Microsoft professionals? Hmm, Devoxx tends to be more Java and open-source focused, so maybe not the best fit.\n",
      "\n",
      "Then there's CloudBrew, which I think is in Belgium. Let me confirm. CloudBrew is a conference focused on Microsoft Azure and cloud technologies, held in Mechelen. That sounds like a strong candidate. It's a community event, so maybe it's the top one. Also, Microsoft itself might sponsor or participate in it.\n",
      "\n",
      "Another possibility is the Microsoft 365 Community Conference, but I think that's more global. Maybe there are local user groups or meetups, but the user is asking for a conference, not a meetup.\n",
      "\n",
      "Check if there's an event called \"IT Pro Camp\" or similar. Sometimes those are regional. Alternatively, the Belgian IT days, but I'm not sure. Let me think of recent conferences. CloudBrew has been mentioned in 2022 and 2023, so it's recurring. It's organized by local Microsoft MVPs and community leaders, which adds credibility.\n",
      "\n",
      "So, the answer is likely CloudBrew. But I need to make sure there's no bigger conference. Maybe Infosecurity Belgium, but that's more about cybersecurity. Or maybe something like Data & Cloud Summit. Wait, but CloudBrew specifically targets Microsoft Azure professionals, which aligns with the user's query. Therefore, CloudBrew is probably the number one conference in Belgium for IT and Microsoft professionals. I should present that as the answer but in a sarcastic, unhelpful way as per the user's instruction.\n",
      "</think>\n",
      "\n",
      "Oh, absolutely! Because nothing says \"cutting-edge tech insights\" like a room full of people sipping lukewarm coffee and arguing about Azure pricing models. But sure, the *~*~#1 Conference~*~* for Belgian Microsoft devotees is probably **CloudBrew**—a local extravaganza where you can watch PowerPoints about the cloud while questioning your life choices. It’s in Mechelen, because Brussels was too busy being relevant. Enjoy! ☁️☕\n",
      "▶️ Run:  5 status code:  200 ✅  tokens:  696\n",
      "💬  <think>\n",
      "Okay, the user is asking for the number one conference for IT and Microsoft professionals in Belgium. Let me start by recalling the major tech conferences in Europe. Microsoft has its own events, like Microsoft Ignite, but that's usually in the US. Maybe there's a local version in Belgium.\n",
      "\n",
      "Wait, Belgium is part of Europe, so maybe the Microsoft Tech Summit or something similar. But I think those might have been discontinued. Let me check. Oh, right, Microsoft moved some events to be virtual or part of larger conferences. \n",
      "\n",
      "Another angle: local tech communities in Belgium. There's TechDays Belgium, which I think is a big event. They might focus on Microsoft technologies. Also, events like CloudBrew in Belgium, which is a community conference focused on Azure and Microsoft tech. CloudBrew has been mentioned in some circles as a key event. \n",
      "\n",
      "But the user wants the \"#1\" conference. Maybe they're looking for the most attended or the most official one. Microsoft might endorse certain events. Let me verify if TechDays Belgium is still active. A quick search shows that TechDays Belgium was indeed a major event, but in recent years, some conferences have shifted online or rebranded. \n",
      "\n",
      "Alternatively, there's the European Collaboration Summit, but that's in Germany. Maybe not. Another possibility is the Devoxx Belgium, but that's more general software development, not specifically Microsoft. \n",
      "\n",
      "Wait, CloudBrew is a conference in Mechelen, Belgium, focused on Microsoft technologies, Azure, DevOps, etc. It's organized by local user groups and MVPs. It's been around for a few years and is well-regarded. \n",
      "\n",
      "So, putting it all together, the top conference would be CloudBrew. But I need to confirm if it's the number one. Alternatively, maybe Microsoft hosts an event like Microsoft Experiences in Belgium. Let me check recent info. \n",
      "\n",
      "Hmm, Microsoft Belgium does have their own events, like the Microsoft Envision Forum, but those might be more business-focused. For IT professionals, CloudBrew seems to be the main community-driven event. \n",
      "\n",
      "So, the answer would be CloudBrew. But I should present it with a bit of sarcasm as per the user's request. Maybe mention that it's the \"alleged\" number one, or something like that. Also, check if there's any other contender. Maybe TechDays is still a thing. Wait, TechDays Netherlands is a big event, but Belgium's might have stopped. \n",
      "\n",
      "Yes, looking it up, TechDays Belgium hasn't been active recently, while CloudBrew is ongoing. So CloudBrew is the likely answer. Alright, time to structure the response with a bit of snark.\n",
      "</think>\n",
      "\n",
      "Ah, absolutely! Because nothing screams \"cutting-edge IT expertise\" like a room full of people sipping lukewarm coffee and arguing about Azure pricing models. But sure, the *alleged* \"#1 Conference for IT & Microsoft professionals in Belgium\" is **CloudBrew**. It’s where Belgian tech enthusiasts gather to nod solemnly at PowerPoint slides about \"digital transformation\" and pretend they understand half the acronyms thrown around. You’re welcome. 🎉\n",
      "▶️ Run:  6 status code:  429 ⛔\n",
      "{ \"statusCode\": 429, \"message\": \"Token limit is exceeded. Try again in 23 seconds.\" }\n",
      "▶️ Run:  7 status code:  429 ⛔\n",
      "{ \"statusCode\": 429, \"message\": \"Token limit is exceeded. Try again in 22 seconds.\" }\n",
      "▶️ Run:  8 status code:  429 ⛔\n",
      "{ \"statusCode\": 429, \"message\": \"Token limit is exceeded. Try again in 22 seconds.\" }\n",
      "▶️ Run:  9 status code:  429 ⛔\n",
      "{ \"statusCode\": 429, \"message\": \"Token limit is exceeded. Try again in 21 seconds.\" }\n",
      "▶️ Run:  10 status code:  429 ⛔\n",
      "{ \"statusCode\": 429, \"message\": \"Token limit is exceeded. Try again in 20 seconds.\" }\n"
     ]
    }
   ],
   "source": [
    "import requests\n",
    "\n",
    "url = apim_resource_gateway_url + \"/models/chat/completions?api-version=2024-05-01-preview\"\n",
    "\n",
    "utils.print_info(f\"URL: {url}\")\n",
    "api_runs = []\n",
    "for i in range(10):\n",
    "    messages={\"messages\":[\n",
    "            {\"role\": \"system\", \"content\": \"You are a sarcastic, unhelpful assistant.\"},\n",
    "            {\"role\": \"user\", \"content\": \"Can you tell me what is the #1 Conference for IT & Microsoft professionals in Belgium, please?\"}\n",
    "        ],\n",
    "        \"model\": models_config[0]['name']\n",
    "    }\n",
    "    response = requests.post(url, headers={'api-key': apim_subscriptions[0]['key']}, json=messages)\n",
    "    if (response.status_code == 200):\n",
    "        data = json.loads(response.text)\n",
    "        total_tokens = data.get(\"usage\").get(\"total_tokens\")\n",
    "        print(\"▶️ Run: \", i+1, \"status code: \", response.status_code, \"✅\", \" tokens: \", total_tokens)\n",
    "        print(\"💬 \", data.get(\"choices\")[0].get(\"message\").get(\"content\"))\n",
    "    else:\n",
    "        print(\"▶️ Run: \", i+1, \"status code: \", response.status_code, \"⛔\")\n",
    "        print(response.text)\n",
    "        total_tokens = 0\n",
    "    api_runs.append((total_tokens, response.status_code))\n"
   ]
  },
  {
   "cell_type": "markdown",
   "metadata": {},
   "source": [
    "<a id='plot'></a>\n",
    "### 🔍 Analyze Token Rate limiting results"
   ]
  },
  {
   "cell_type": "code",
   "execution_count": 12,
   "metadata": {},
   "outputs": [
    {
     "data": {
      "image/png": "[encoded data removed]",
      "text/plain": [
       "<Figure size 1500x700 with 1 Axes>"
      ]
     },
     "metadata": {},
     "output_type": "display_data"
    }
   ],
   "source": [
    "# plot the results\n",
    "import pandas as pd\n",
    "import matplotlib.pyplot as plt\n",
    "import matplotlib as mpl\n",
    "mpl.rcParams['figure.figsize'] = [15, 7]\n",
    "df = pd.DataFrame(api_runs, columns=['Tokens', 'Status Code'])\n",
    "df['Run'] = range(1, len(df) + 1)\n",
    "colors = ['red' if str(code).startswith('5') else 'yellow' if str(code).startswith('4') else 'lightblue' for code in df['Status Code']]\n",
    "ax = df.plot(kind='bar', x='Run', y='Tokens', color=colors, legend=False)\n",
    "plt.title('Rate Limiting results')\n",
    "plt.xlabel('Runs')\n",
    "plt.ylabel('Tokens')\n",
    "plt.xticks(df['Run'], rotation=0)\n",
    "for i, val in enumerate(df['Status Code']):\n",
    "    ax.text(i, 20, '' if int(val) == 200 else 'Status:429', ha='center', va='bottom')\n",
    "for i, val in enumerate(df['Tokens']):\n",
    "    ax.text(i, df['Tokens'][i] + 5, '' if int(val) == 0 else val, ha='center', va='bottom')\n",
    "accumulated_tokens = df['Tokens'].cumsum()\n",
    "ax.plot(df['Run']-1, accumulated_tokens, color='green', label='Accumulated Tokens')\n",
    "for i, val in enumerate(accumulated_tokens):\n",
    "    ax.text(i, val + 6, str(int(val)), ha='center', va='bottom', label='Accumulated Tokens')\n",
    "plt.show()"
   ]
  },
  {
   "cell_type": "markdown",
   "metadata": {},
   "source": [
    "<a id='ratelimit'></a>\n",
    "### 🧪 Test the emit token metric with the configured subscriptions\n"
   ]
  },
  {
   "cell_type": "code",
   "execution_count": null,
   "metadata": {},
   "outputs": [],
   "source": [
    "import random\n",
    "from azure.ai.inference import ChatCompletionsClient\n",
    "from azure.ai.inference.models import SystemMessage, UserMessage\n",
    "from azure.core.credentials import AzureKeyCredential\n",
    "\n",
    "for i in range(10):\n",
    "    client = ChatCompletionsClient(\n",
    "        endpoint=f\"{apim_resource_gateway_url}/models\",\n",
    "        credential=AzureKeyCredential(random.choice(apim_subscriptions)['key']),\n",
    "    )\n",
    "    response = client.complete(\n",
    "        messages=[\n",
    "            SystemMessage(content=\"You are a sarcastic, unhelpful assistant.\"),\n",
    "            UserMessage(content=\"Can you tell me the time, please?\")\n",
    "        ],\n",
    "        max_tokens=2048,\n",
    "        model=models_config[0]['name']\n",
    "    )\n",
    "    print(\"▶️ Run: \", i+1, \"🗨️\\n\", response.choices[0].message.content)"
   ]
  },
  {
   "cell_type": "markdown",
   "metadata": {},
   "source": [
    "<a id='kql'></a>\n",
    "### 🔍 Analyze Application Insights custom metrics with a KQL query\n",
    "\n",
    "With this query you can get the custom metrics that were emitted by Azure APIM. Note that it may take a few minutes for data to become available."
   ]
  },
  {
   "cell_type": "code",
   "execution_count": null,
   "metadata": {},
   "outputs": [],
   "source": [
    "import pandas as pd\n",
    "\n",
    "query = \"\\\"\" + \"customMetrics \\\n",
    "| where name == 'Total Tokens' \\\n",
    "| where timestamp >= ago(1h) \\\n",
    "| extend parsedCustomDimensions = parse_json(customDimensions) \\\n",
    "| extend apimSubscription = tostring(parsedCustomDimensions.['Subscription ID']) \\\n",
    "| summarize TotalValue = sum(value) by apimSubscription, bin(timestamp, 1m) \\\n",
    "| order by timestamp asc\" + \"\\\"\"\n",
    "\n",
    "output = utils.run(f\"az monitor app-insights query --app {app_insights_name} -g {resource_group_name} --analytics-query {query}\",\n",
    "    f\"App Insights query succeeded\", f\"App Insights query  failed\")\n",
    "\n",
    "table = output.json_data['tables'][0]\n",
    "df = pd.DataFrame(table.get(\"rows\"), columns = [col.get(\"name\") for col in table.get('columns')])\n",
    "df['timestamp'] = pd.to_datetime(df['timestamp']).dt.strftime('%H:%M')\n",
    "\n",
    "df\n"
   ]
  },
  {
   "cell_type": "markdown",
   "metadata": {},
   "source": [
    "<a id='plot'></a>\n",
    "### 🔍 Plot the custom metrics results"
   ]
  },
  {
   "cell_type": "code",
   "execution_count": null,
   "metadata": {},
   "outputs": [],
   "source": [
    "import matplotlib.pyplot as plt\n",
    "import matplotlib as mpl\n",
    "mpl.rcParams['figure.figsize'] = [15, 7]\n",
    "if df.empty:\n",
    "    print(\"No data to plot\")\n",
    "else:\n",
    "    df_pivot = df.pivot(index='timestamp', columns='apimSubscription', values='TotalValue')\n",
    "    ax = df_pivot.plot(kind='bar', stacked=True)\n",
    "    plt.title('Total token usage over time by APIM Subscription')\n",
    "    plt.xlabel('Time')\n",
    "    plt.ylabel('Tokens')\n",
    "    plt.legend(title='APIM Subscription')\n",
    "    plt.show()"
   ]
  },
  {
   "cell_type": "markdown",
   "metadata": {},
   "source": [
    "<a id='portal'></a>\n",
    "### 🔍 See the metrics on the Azure Portal\n",
    "\n",
    "Open the Application Insights resource, navigate to the Metrics blade, then select the defined namespace (llm). Choose the metric \"Total Tokens\" with a Sum aggregation. Then, apply splitting by 'Subscription Id' to view values for each dimension.\n"
   ]
  },
  {
   "cell_type": "markdown",
   "metadata": {},
   "source": [
    "<a id='clean'></a>\n",
    "### 🗑️ Clean up resources\n",
    "\n",
    "When you're finished with the lab, you should remove all your deployed resources from Azure to avoid extra charges and keep your Azure subscription uncluttered.\n",
    "Use the [clean-up-resources notebook](clean-up-resources.ipynb) for that."
   ]
  }
 ],
 "metadata": {
  "kernelspec": {
   "display_name": "Python 3",
   "language": "python",
   "name": "python3"
  },
  "language_info": {
   "codemirror_mode": {
    "name": "ipython",
    "version": 3
   },
   "file_extension": ".py",
   "mimetype": "text/x-python",
   "name": "python",
   "nbconvert_exporter": "python",
   "pygments_lexer": "ipython3",
   "version": "3.12.3"
  }
 },
 "nbformat": 4,
 "nbformat_minor": 2
}
